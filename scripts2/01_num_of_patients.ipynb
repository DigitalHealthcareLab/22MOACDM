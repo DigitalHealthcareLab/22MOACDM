{
 "cells": [
  {
   "attachments": {},
   "cell_type": "markdown",
   "metadata": {},
   "source": [
    "# 0_num_of_patients.ipynb"
   ]
  },
  {
   "cell_type": "code",
   "execution_count": null,
   "metadata": {},
   "outputs": [],
   "source": [
    "import os\n",
    "import sys\n",
    "import json\n",
    "import pathlib\n",
    "sys.path.append(\"..\")\n",
    "\n",
    "import numpy as np\n",
    "import pandas as pd\n",
    "import matplotlib.pyplot as plt\n",
    "import seaborn as sns\n",
    "from tqdm import tqdm\n",
    "from datetime import timedelta\n",
    "import traceback\n",
    "\n",
    "current_dir = pathlib.Path.cwd()\n",
    "parent_dir = current_dir.parent\n",
    "with open(parent_dir.joinpath(\"config.json\")) as file:\n",
    "    cfg = json.load(file)"
   ]
  },
  {
   "cell_type": "code",
   "execution_count": null,
   "metadata": {},
   "outputs": [],
   "source": [
    "from sqlalchemy import create_engine\n",
    "from sqlalchemy.orm import sessionmaker\n",
    "\n",
    "driver = cfg[\"dbms\"]\n",
    "db_cfg = cfg[driver]\n",
    "username = db_cfg[\"@user\"]\n",
    "password = db_cfg[\"@password\"]\n",
    "host = db_cfg[\"@server\"]\n",
    "port = db_cfg[\"@port\"]\n",
    "database = db_cfg[\"@database\"]\n",
    "if driver == \"mssql\":\n",
    "    driver = \"mssql+pymssql\"\n",
    "elif driver == \"postgresql\":\n",
    "    driver = \"postgresql+psycopg2\"\n",
    "url = f\"{driver}://{username}:{password}@{host}:{port}/{database}\"\n",
    "engine = create_engine(url, echo=False)\n",
    "sessionlocal = sessionmaker(autocommit=False, autoflush=True, bind=engine)"
   ]
  },
  {
   "cell_type": "code",
   "execution_count": null,
   "metadata": {},
   "outputs": [],
   "source": [
    "drug_order = [\"Acetaminophen\", \"Vancomycin\", \"Naproxen\", \"Celecoxib\", \"Acyclovir\"]"
   ]
  },
  {
   "cell_type": "code",
   "execution_count": null,
   "metadata": {},
   "outputs": [],
   "source": [
    "def executeQuerynfetchall(engine, sql_query):\n",
    "    \"\"\"\n",
    "        SQL 쿼리 실행 후 결과를 반환하는 함수\n",
    "    \"\"\"\n",
    "    result = None\n",
    "    try:\n",
    "        with engine.connect() as conn:\n",
    "            result = conn.execute(sql_query)\n",
    "            result = result.fetchall()\n",
    "        # engine.commit()\n",
    "    except:\n",
    "        traceback.print_exc()\n",
    "    return result"
   ]
  },
  {
   "cell_type": "code",
   "execution_count": null,
   "metadata": {},
   "outputs": [],
   "source": [
    "def get_result_of_cdm_num_of_patients(engine):\n",
    "    SQL = \"\"\"SELECT COUNT(DISTINCT p.person_id) as n_patients FROM {@cdm_database_schema}.person p;\"\"\"\n",
    "    sql_param_dict = {}\n",
    "    sql_param_dict[\"@cdm_database_schema\"] = db_cfg[\"@cdm_database_schema\"]\n",
    "    query = SQL.format(**sql_param_dict)\n",
    "    result = executeQuerynfetchall(engine, query)\n",
    "    if not result:\n",
    "        print(f\"person table is not found in the database.\")\n",
    "        return dict()\n",
    "    return result[0][0]\n",
    "def get_result_of_num_patients(engine, drug_name):\n",
    "    SQL = \"\"\"SELECT p.is_abnormal, COUNT(DISTINCT p.person_id) as n_patients\n",
    "    FROM (SELECT *, CASE WHEN n_diff IS NULL THEN 'False' ELSE 'True' END as is_abnormal FROM {@person_database_schema}.{@target_person_table}) p\n",
    "    GROUP BY p.is_abnormal;\"\"\"\n",
    "    sql_param_dict = {}\n",
    "    sql_param_dict[\"@person_database_schema\"] = db_cfg[\"@person_database_schema\"]\n",
    "    sql_param_dict[\"@target_person_table\"] = f\"person_{drug_name}\"\n",
    "    query = SQL.format(**sql_param_dict)\n",
    "    result = executeQuerynfetchall(engine, query)\n",
    "    if not result:\n",
    "        print(f\"{drug_name} is not found in the database.\")\n",
    "        return dict()\n",
    "    return {i[0]:i[1] for i in result}"
   ]
  },
  {
   "cell_type": "code",
   "execution_count": null,
   "metadata": {},
   "outputs": [],
   "source": [
    "result_dir = current_dir.joinpath(\"result\")\n",
    "result_dir.mkdir(parents=True, exist_ok=True)"
   ]
  },
  {
   "cell_type": "code",
   "execution_count": null,
   "metadata": {},
   "outputs": [],
   "source": [
    "number_of_patients_dict = {}\n",
    "number_of_patients_dict[\"n_total_patients\"] = get_result_of_cdm_num_of_patients(engine)\n",
    "for drug_name in tqdm(drug_order):\n",
    "    drug_name = drug_name.lower()\n",
    "    number_of_patients_dict[drug_name] = get_result_of_num_patients(engine, drug_name)\n",
    "\n",
    "with open(result_dir.joinpath(\"number_of_patients.json\"), \"w\") as file:\n",
    "    json.dump(number_of_patients_dict, file, indent=4)"
   ]
  },
  {
   "cell_type": "code",
   "execution_count": null,
   "metadata": {},
   "outputs": [],
   "source": []
  }
 ],
 "metadata": {
  "kernelspec": {
   "display_name": ".venv",
   "language": "python",
   "name": "python3"
  },
  "language_info": {
   "codemirror_mode": {
    "name": "ipython",
    "version": 3
   },
   "file_extension": ".py",
   "mimetype": "text/x-python",
   "name": "python",
   "nbconvert_exporter": "python",
   "pygments_lexer": "ipython3",
   "version": "3.7.13 (default, May 15 2022, 21:08:37) \n[GCC 9.3.1 20200408 (Red Hat 9.3.1-2)]"
  },
  "orig_nbformat": 4,
  "vscode": {
   "interpreter": {
    "hash": "65a9df8dabcfad470e190f31aab646891f837e6d422cdbd7188428f094f05b09"
   }
  }
 },
 "nbformat": 4,
 "nbformat_minor": 2
}
