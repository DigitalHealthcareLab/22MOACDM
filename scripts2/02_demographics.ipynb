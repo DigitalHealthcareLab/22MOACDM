{
 "cells": [
  {
   "attachments": {},
   "cell_type": "markdown",
   "metadata": {},
   "source": [
    "# 02_demographics"
   ]
  },
  {
   "cell_type": "code",
   "execution_count": null,
   "metadata": {},
   "outputs": [],
   "source": [
    "import os\n",
    "import sys\n",
    "import json\n",
    "import pathlib\n",
    "sys.path.append(\"..\")\n",
    "\n",
    "import numpy as np\n",
    "import pandas as pd\n",
    "import matplotlib.pyplot as plt\n",
    "import seaborn as sns\n",
    "from tqdm import tqdm\n",
    "from datetime import timedelta\n",
    "import traceback\n",
    "\n",
    "current_dir = pathlib.Path.cwd()\n",
    "parent_dir = current_dir.parent\n",
    "with open(parent_dir.joinpath(\"config.json\")) as file:\n",
    "    cfg = json.load(file)\n",
    "with open(current_dir.joinpath(\"demographics.json\")) as file:\n",
    "    dg_cfg = json.load(file)"
   ]
  },
  {
   "cell_type": "code",
   "execution_count": null,
   "metadata": {},
   "outputs": [],
   "source": [
    "import pymssql\n",
    "driver = cfg[\"dbms\"]\n",
    "db_cfg = cfg[driver]\n",
    "conn = pymssql.connect(server=db_cfg['@server'], user=db_cfg['@user'], password=db_cfg['@password'], port=db_cfg['@port'], database=db_cfg['@database'], as_dict=False)"
   ]
  },
  {
   "cell_type": "code",
   "execution_count": null,
   "metadata": {},
   "outputs": [],
   "source": [
    "drug_order = [\"Acetaminophen\", \"Vancomycin\", \"Naproxen\", \"Celecoxib\", \"Acyclovir\"]"
   ]
  },
  {
   "cell_type": "code",
   "execution_count": null,
   "metadata": {},
   "outputs": [],
   "source": [
    "def executeQuerynfetchall(conn, sql_query):\n",
    "    \"\"\"\n",
    "        SQL 쿼리 실행 후 결과를 반환하는 함수\n",
    "    \"\"\"\n",
    "    result = None\n",
    "    try:\n",
    "        with conn.cursor() as cursor:\n",
    "            cursor.execute(sql_query)\n",
    "            result = cursor.fetchall()\n",
    "        conn.commit()\n",
    "    except:\n",
    "        traceback.print_exc()\n",
    "    return result"
   ]
  },
  {
   "cell_type": "code",
   "execution_count": null,
   "metadata": {},
   "outputs": [],
   "source": [
    "# 1. 각 약물에 대한 환자 수\n",
    "def get_result_of_num_patients(conn, drug_name):\n",
    "    SQL = \"\"\"SELECT p.is_abnormal, COUNT(DISTINCT p.person_id) as n_patients\n",
    "    FROM (SELECT *, CASE WHEN n_diff IS NULL THEN 'False' ELSE 'True' END as is_abnormal FROM {@person_database_schema}.{@target_person_table}) p\n",
    "    GROUP BY p.is_abnormal;\"\"\"\n",
    "    sql_param_dict = {}\n",
    "    sql_param_dict[\"@person_database_schema\"] = db_cfg[\"@person_database_schema\"]\n",
    "    sql_param_dict[\"@target_person_table\"] = f\"person_{drug_name}\"\n",
    "    query = SQL.format(**sql_param_dict)\n",
    "    result = executeQuerynfetchall(conn, query)\n",
    "    if not result:\n",
    "        print(f\"{drug_name} is not found in the database.\")\n",
    "        return {}\n",
    "    return {i[0]:i[1] for i in result}"
   ]
  },
  {
   "cell_type": "code",
   "execution_count": null,
   "metadata": {},
   "outputs": [],
   "source": [
    "# 2. 각 진단코드에 대한 환자 수\n",
    "def get_num_people_for_condition(conn, drug_name, concept_id_list):\n",
    "    MSSQL_Query = \"\"\"SELECT p.is_abnormal, COUNT(DISTINCT p.person_id) as n_patients\n",
    "    FROM (SELECT *, CASE WHEN n_diff IS NULL THEN 'False' ELSE 'True' END as is_abnormal FROM {@person_database_schema}.{@target_person_table}) p\n",
    "    JOIN {@cdm_database_schema}.condition_occurrence co ON p.person_id = co.person_id\n",
    "    JOIN {@cdm_database_schema}.concept c ON co.condition_concept_id = c.concept_id\n",
    "    WHERE c.concept_id in ({@concept_id_list}) and p.cohort_start_date > co.condition_start_date and DATEADD(year, -1, p.cohort_start_date) < co.condition_start_date\n",
    "    GROUP BY p.is_abnormal\n",
    "    ORDER BY p.is_abnormal;\"\"\"\n",
    "    if cfg[\"dbms\"] == \"postgresql\":\n",
    "        MSSQL_Query = MSSQL_Query.replace(\"DATEADD(YEAR, -1, p.cohort_start_date)\", \"p.cohort_start_date - INTERVAL '1 year'\")\n",
    "    sql_param_dict = {}\n",
    "    sql_param_dict[\"@person_database_schema\"] = db_cfg[\"@person_database_schema\"]\n",
    "    sql_param_dict[\"@target_person_table\"] = f\"person_{drug_name}\"\n",
    "    sql_param_dict[\"@cdm_database_schema\"] = db_cfg[\"@cdm_database_schema\"]\n",
    "    sql_param_dict[\"@concept_id_list\"] = \",\".join([str(i) for i in concept_id_list])\n",
    "\n",
    "    query = MSSQL_Query.format(**sql_param_dict)\n",
    "    result = executeQuerynfetchall(conn, query)\n",
    "    if not result:\n",
    "        return {}\n",
    "    return {i[0]:i[1] for i in result}"
   ]
  },
  {
   "cell_type": "code",
   "execution_count": null,
   "metadata": {},
   "outputs": [],
   "source": [
    "# 3. 각 진단검사에 대한 환자 값 리스트 (index date기준 1년 이내)\n",
    "def get_values_for_measurement(conn, drug_name, concept_id_list):\n",
    "    MSSQL_Query = \"\"\"\n",
    "    SELECT is_abnormal, value_as_number\n",
    "    FROM \n",
    "    (\n",
    "        SELECT m.*, p.is_abnormal, ROW_NUMBER() OVER (PARTITION BY m.person_id ORDER BY m.measurement_date) as row\n",
    "        FROM (SELECT person_id, cohort_start_date, \n",
    "            CASE WHEN n_diff IS NULL THEN 'False' ELSE 'True' END AS is_abnormal\n",
    "            FROM {@person_database_schema}.{@target_person_table}) p\n",
    "        JOIN {@cdm_database_schema}.measurement m\n",
    "            ON p.person_id = m.person_id\n",
    "        WHERE m.measurement_concept_id IN (3013721, 3006923)\n",
    "            AND m.measurement_date BETWEEN DATEADD(YEAR, -1, p.cohort_start_date) AND p.cohort_start_date \n",
    "    ) t\n",
    "    WHERE t.row = 1\n",
    "    ORDER BY is_abnormal;\n",
    "    \"\"\"\n",
    "    if cfg[\"dbms\"] == \"postgresql\":\n",
    "        MSSQL_Query = MSSQL_Query.replace(\"DATEADD(YEAR, -1, p.cohort_start_date)\", \"p.cohort_start_date - INTERVAL '1 year'\")\n",
    "\n",
    "    sql_param_dict = {}\n",
    "    sql_param_dict[\"@person_database_schema\"] = db_cfg[\"@person_database_schema\"]\n",
    "    sql_param_dict[\"@target_person_table\"] = f\"person_{drug_name}\"\n",
    "    sql_param_dict[\"@cdm_database_schema\"] = db_cfg[\"@cdm_database_schema\"]\n",
    "    sql_param_dict[\"@concept_id_list\"] = \",\".join([str(i) for i in concept_id_list])\n",
    "\n",
    "    query = MSSQL_Query.format(**sql_param_dict)\n",
    "    result = executeQuerynfetchall(conn, query)\n",
    "    if not result:\n",
    "        return {}\n",
    "    \n",
    "    from itertools import groupby\n",
    "    group_dict = {}\n",
    "    for key, group in groupby(result, key=lambda x: x[0]):\n",
    "        group_dict[key] = [i[1] for i in group]\n",
    "    return group_dict"
   ]
  },
  {
   "cell_type": "code",
   "execution_count": null,
   "metadata": {},
   "outputs": [],
   "source": [
    "def get_results_of_items_for_condition(conn, drug_name, items_cfg):\n",
    "    \"\"\" 각 진단 코드에 대한 환자 수 반환 \"\"\"\n",
    "    _dict = {}\n",
    "    for i, key in enumerate(items_cfg.keys()):\n",
    "        item_cfg = items_cfg[key]\n",
    "        item_name = item_cfg[\"name\"]\n",
    "        concept_id_list = \",\".join([str(concept_id) for concept_id in item_cfg[\"concept_id\"]])\n",
    "        _dict[item_name] = get_num_people_for_condition(conn, drug_name, item_cfg[\"concept_id\"])\n",
    "    return _dict\n",
    "\n",
    "def get_results_of_items_for_measurement(conn, drug_name, items_cfg):\n",
    "    \"\"\" 각 진단검사 코드에 대한 결과 리스트 반환 \"\"\"\n",
    "    _dict = {}\n",
    "    for i, key in enumerate(items_cfg.keys()):\n",
    "        item_cfg = items_cfg[key]\n",
    "        item_name = item_cfg[\"name\"]\n",
    "        concept_id_list = \",\".join([str(concept_id) for concept_id in item_cfg[\"concept_id\"]])\n",
    "        _dict[item_name] = get_values_for_measurement(conn, drug_name, item_cfg[\"concept_id\"])\n",
    "    return _dict"
   ]
  },
  {
   "cell_type": "code",
   "execution_count": null,
   "metadata": {},
   "outputs": [],
   "source": [
    "def get_demographics_for_condition(conn, drug_order, table_cfg):\n",
    "    \"\"\" 약물 별, 진단 환자 수 추출 \"\"\"\n",
    "    _dict = {}\n",
    "    for i, drug_name in enumerate(tqdm(drug_order)):\n",
    "        _dict[drug_name] = get_results_of_items_for_condition(conn, drug_name, table_cfg[\"items\"])\n",
    "    return _dict\n",
    "\n",
    "def get_demographics_for_measurement(conn, drug_order, table_cfg):\n",
    "    \"\"\" 약물 별, 진단검사 결과 추출 \"\"\"\n",
    "    _dict = {}\n",
    "    for i, drug_name in enumerate(tqdm(drug_order)):\n",
    "        _dict[drug_name] = get_results_of_items_for_measurement(conn, drug_name, table_cfg[\"items\"])\n",
    "    return _dict"
   ]
  },
  {
   "cell_type": "code",
   "execution_count": null,
   "metadata": {},
   "outputs": [],
   "source": [
    "result_dir = current_dir.joinpath(\"result\")\n",
    "result_dir.mkdir(exist_ok=True)\n",
    "\n",
    "for table in dg_cfg.keys():\n",
    "    table_cfg = dg_cfg[table]\n",
    "    \n",
    "    if not \"name\" in table_cfg.keys():\n",
    "        continue\n",
    "    \n",
    "    demographics_dict = {}\n",
    "    name = table_cfg[\"name\"]\n",
    "    if \"condition_occurrence\" == name:\n",
    "        demographics_dict = get_demographics_for_condition(conn, drug_order, dg_cfg[table])\n",
    "    elif \"measurement\" == name:\n",
    "        demographics_dict = get_demographics_for_measurement(conn, drug_order, dg_cfg[table])\n",
    "\n",
    "    # 결과 저장\n",
    "    result_file = result_dir.joinpath(f\"demographics_for_{name}.json\")\n",
    "    with open(result_file, \"w\") as f:\n",
    "        json.dump(demographics_dict, f, indent=2)"
   ]
  },
  {
   "cell_type": "code",
   "execution_count": null,
   "metadata": {},
   "outputs": [],
   "source": []
  }
 ],
 "metadata": {
  "kernelspec": {
   "display_name": ".venv",
   "language": "python",
   "name": "python3"
  },
  "language_info": {
   "codemirror_mode": {
    "name": "ipython",
    "version": 3
   },
   "file_extension": ".py",
   "mimetype": "text/x-python",
   "name": "python",
   "nbconvert_exporter": "python",
   "pygments_lexer": "ipython3",
   "version": "3.7.13 (default, May 15 2022, 21:08:37) \n[GCC 9.3.1 20200408 (Red Hat 9.3.1-2)]"
  },
  "orig_nbformat": 4,
  "vscode": {
   "interpreter": {
    "hash": "65a9df8dabcfad470e190f31aab646891f837e6d422cdbd7188428f094f05b09"
   }
  }
 },
 "nbformat": 4,
 "nbformat_minor": 2
}
